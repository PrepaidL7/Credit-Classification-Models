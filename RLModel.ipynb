{
 "cells": [
  {
   "cell_type": "code",
   "execution_count": 1,
   "id": "68203ba6",
   "metadata": {},
   "outputs": [
    {
     "name": "stdout",
     "output_type": "stream",
     "text": [
      "<class 'pandas.core.frame.DataFrame'>\n",
      "RangeIndex: 9864 entries, 0 to 9863\n",
      "Data columns (total 25 columns):\n",
      " #   Column                                      Non-Null Count  Dtype\n",
      "---  ------                                      --------------  -----\n",
      " 0   status_generado                             9864 non-null   int64\n",
      " 1   scorecc                                     9864 non-null   int64\n",
      " 2   acreedores                                  9864 non-null   int64\n",
      " 3   cuentas_activas                             9864 non-null   int64\n",
      " 4   emprende_activos                            9864 non-null   int64\n",
      " 5   emprende_cerrados                           9864 non-null   int64\n",
      " 6   quebrantos                                  9864 non-null   int64\n",
      " 7   atrasos                                     9864 non-null   int64\n",
      " 8   cobranza                                    9864 non-null   int64\n",
      " 9   creditosFraudulentos                        9864 non-null   int64\n",
      " 10  creditosIntegranteCausanteDeMora            9864 non-null   int64\n",
      " 11  creditosIntegranteSubsidiadoParaEvitarMora  9864 non-null   int64\n",
      " 12  creditosEnLocalizacion                      9864 non-null   int64\n",
      " 13  creditosCedidoAUnTercero                    9864 non-null   int64\n",
      " 14  creditosConvenioDeFiniquito                 9864 non-null   int64\n",
      " 15  posiblesCreditosCerrados                    9864 non-null   int64\n",
      " 16  creditosOtros                               9864 non-null   int64\n",
      " 17  cerrados                                    9864 non-null   int64\n",
      " 18  consultas                                   9864 non-null   int64\n",
      " 19  domicilios                                  9864 non-null   int64\n",
      " 20  empleos                                     9864 non-null   int64\n",
      " 21  creditosAbiertos                            9864 non-null   int64\n",
      " 22  otrosCreditosParaAnalizar                   9864 non-null   int64\n",
      " 23  creditosAbiertosQuebrantosNoCerrados        9864 non-null   int64\n",
      " 24  edad                                        9864 non-null   int64\n",
      "dtypes: int64(25)\n",
      "memory usage: 1.9 MB\n"
     ]
    }
   ],
   "source": [
    "import pandas as pd, numpy as np, matplotlib.pyplot as plt, seaborn as sb, warnings\n",
    "from sklearn.linear_model import LogisticRegression # Regresor Logistico\n",
    "from sklearn.model_selection import train_test_split, KFold, cross_val_score, StratifiedKFold # Validación, validación cruzada\n",
    "from sklearn.metrics import classification_report, confusion_matrix, accuracy_score, mean_absolute_error, precision_score, recall_score, f1_score # Metricas y coeficientes de eficiencia\n",
    "%matplotlib inline\n",
    "practicas_pV2 = pd.read_csv('C:/Users/SANTY/Downloads/practicas_pV2.csv')\n",
    "practicas_pV2.info()"
   ]
  },
  {
   "cell_type": "code",
   "execution_count": 2,
   "id": "0fb198d4",
   "metadata": {},
   "outputs": [],
   "source": [
    "# Separacion Variables predictoras y objetivo\n",
    "\n",
    "X = practicas_pV2.drop(columns = [\"status_generado\", 'creditosAbiertos', 'creditosAbiertosQuebrantosNoCerrados', 'otrosCreditosParaAnalizar', 'scorecc', 'creditosFraudulentos', 'creditosIntegranteCausanteDeMora',\n",
    "       'creditosIntegranteSubsidiadoParaEvitarMora', 'creditosEnLocalizacion',\n",
    "       'creditosCedidoAUnTercero', 'creditosConvenioDeFiniquito',\n",
    "       'creditosOtros', 'domicilios', 'cerrados'])\n",
    "y = practicas_pV2[\"status_generado\"]"
   ]
  },
  {
   "cell_type": "code",
   "execution_count": 3,
   "id": "d9c72bdb",
   "metadata": {},
   "outputs": [
    {
     "data": {
      "text/plain": [
       "0.8524939172749392"
      ]
     },
     "execution_count": 3,
     "metadata": {},
     "output_type": "execute_result"
    }
   ],
   "source": [
    "# Preparacion y ajuste del modelo con todas las variables\n",
    "\n",
    "model = LogisticRegression(solver = 'newton-cg')\n",
    "model.fit(X,y)\n",
    "\n",
    "# Se utiliza el coeficiente de determinacion R^2\n",
    "model.score(X,y)"
   ]
  },
  {
   "cell_type": "code",
   "execution_count": 4,
   "id": "fcd9b409",
   "metadata": {},
   "outputs": [
    {
     "name": "stdout",
     "output_type": "stream",
     "text": [
      "Logistic Regression: 0.847264 (0.035854)\n",
      "Exactitud del modelo 0.8596918085969181\n",
      "Precision del modelo 0.8557548579970105\n",
      "Sensibilidad del modelo 0.8821263482280431\n",
      "F1-Score del modelo 0.8687405159332322\n"
     ]
    }
   ],
   "source": [
    "X_train, X_test, y_train, y_test = train_test_split(X,y, random_state = 1) # Sepacración para validacion\n",
    "\n",
    "# Precisión para el modelo entrenado \n",
    "\n",
    "name='Logistic Regression'\n",
    "skfold = StratifiedKFold(n_splits=100, random_state=1, shuffle=True) \n",
    "cv_results = cross_val_score(model, X_train, y_train, cv=skfold, scoring='accuracy') # Validación cruzada por dobleces estraticados\n",
    "msg = \"%s: %f (%f)\" % (name, cv_results.mean(), cv_results.std())\n",
    "print(msg)\n",
    "\n",
    "# Precisión para las predicciones del modelo\n",
    "model.fit(X_train,y_train)\n",
    "preds = model.predict(X_test)\n",
    "print(f'Exactitud del modelo {accuracy_score(y_test, preds)}')\n",
    "print(f'Precision del modelo {precision_score(y_test, preds)}')\n",
    "print(f'Sensibilidad del modelo {recall_score(y_test, preds)}')\n",
    "print(f'F1-Score del modelo {f1_score(y_test, preds)}')\n"
   ]
  },
  {
   "cell_type": "code",
   "execution_count": 5,
   "id": "67be8aa4",
   "metadata": {},
   "outputs": [
    {
     "name": "stdout",
     "output_type": "stream",
     "text": [
      "Threshold 0.0 Train Accuracy: 0.527\n",
      "Threshold 0.1 Train Accuracy: 0.7416\n",
      "Threshold 0.2 Train Accuracy: 0.8049\n",
      "Threshold 0.3 Train Accuracy: 0.8393\n",
      "Threshold 0.4 Train Accuracy: 0.8546\n",
      "Threshold 0.5 Train Accuracy: 0.8475\n",
      "Threshold 0.6 Train Accuracy: 0.8317\n",
      "Threshold 0.7 Train Accuracy: 0.8008\n",
      "Threshold 0.8 Train Accuracy: 0.7374\n",
      "Threshold 0.9 Train Accuracy: 0.6231\n"
     ]
    }
   ],
   "source": [
    " # Determinando el umbral de cambio para el status\n",
    "\n",
    "both = pd.DataFrame()\n",
    "both['y_pred'] = model.predict(X_train)\n",
    "both['probs'] = model.predict_proba(X_train)[:,1]\n",
    "\n",
    "\n",
    "for i in list(np.arange(0,1,0.1)):\n",
    "    both[\"y_pred\"] = 0 \n",
    "    both.loc[both[\"probs\"] > i, 'y_pred'] = 1\n",
    "    print (\"Threshold\",round(i, 3),\"Train Accuracy:\",\n",
    "    round(accuracy_score(y_train, both['y_pred']),4))"
   ]
  },
  {
   "cell_type": "code",
   "execution_count": 6,
   "id": "539f9386",
   "metadata": {},
   "outputs": [
    {
     "name": "stdout",
     "output_type": "stream",
     "text": [
      "Exactitud del modelo 0.8633414436334145\n",
      "Precision del modelo 0.8306951135581555\n",
      "Sensibilidad del modelo 0.9298921417565486\n",
      "F1-Score del modelo 0.8774990912395493\n",
      "\n",
      "\n",
      "Train Confusion Matrix\n",
      "\n",
      " Predicted  False  True \n",
      "Actual                 \n",
      "0           2687    812\n",
      "1            264   3635\n",
      "\n",
      "\n",
      "Test Confusion Matrix\n",
      "\n",
      " Predicted  False  True \n",
      "Actual                 \n",
      "0            922    246\n",
      "1             91   1207\n"
     ]
    }
   ],
   "source": [
    "preds = (model.predict_proba(X_test)[:,1] >= 0.4).astype(bool)\n",
    "preds0 =  (model.predict_proba(X_train)[:,1] >= 0.4).astype(bool)\n",
    "print(f'Exactitud del modelo {accuracy_score(y_test, preds)}')\n",
    "print(f'Precision del modelo {precision_score(y_test, preds)}')\n",
    "print(f'Sensibilidad del modelo {recall_score(y_test, preds)}')\n",
    "print(f'F1-Score del modelo {f1_score(y_test, preds)}')\n",
    "print (\"\\n\\nTrain Confusion Matrix\\n\\n\",pd.crosstab(y_train, preds0,rownames = [\"Actual\"],colnames =[\"Predicted\"]))\n",
    "print (\"\\n\\nTest Confusion Matrix\\n\\n\",pd.crosstab(y_test, preds,rownames = [\"Actual\"],colnames =[\"Predicted\"]))\n",
    "    \n"
   ]
  },
  {
   "cell_type": "code",
   "execution_count": 7,
   "id": "c4557815",
   "metadata": {},
   "outputs": [
    {
     "name": "stdout",
     "output_type": "stream",
     "text": [
      "Log(odds) = 2.227+ -1.552 * acreedores+ 0.038 * cuentas_activas+ 0.322 * emprende_activos+ 0.005 * emprende_cerrados+ -0.530 * quebrantos+ -0.107 * atrasos+ 0.054 * cobranza+ -0.850 * posiblesCreditosCerrados+ 0.058 * consultas+ 0.024 * empleos+ 0.009 * edad\n"
     ]
    }
   ],
   "source": [
    "coeficientes = model.coef_\n",
    "coeficientes = coeficientes[coeficientes != 0]\n",
    "intercepto = model.intercept_\n",
    "variables = X.columns\n",
    "\n",
    "ecuacion = f\"Log(odds) = {intercepto[0]:.3f}\"\n",
    "\n",
    "for i,coef in enumerate(coeficientes):\n",
    "    ecuacion += f\"+ {coef:.3f} * {variables[i]}\"\n",
    "\n",
    "print(ecuacion)"
   ]
  },
  {
   "cell_type": "code",
   "execution_count": null,
   "id": "fa5069fa",
   "metadata": {},
   "outputs": [],
   "source": []
  },
  {
   "cell_type": "code",
   "execution_count": null,
   "id": "e6e3f1bd",
   "metadata": {},
   "outputs": [],
   "source": []
  }
 ],
 "metadata": {
  "kernelspec": {
   "display_name": "Python 3 (ipykernel)",
   "language": "python",
   "name": "python3"
  },
  "language_info": {
   "codemirror_mode": {
    "name": "ipython",
    "version": 3
   },
   "file_extension": ".py",
   "mimetype": "text/x-python",
   "name": "python",
   "nbconvert_exporter": "python",
   "pygments_lexer": "ipython3",
   "version": "3.11.5"
  }
 },
 "nbformat": 4,
 "nbformat_minor": 5
}
